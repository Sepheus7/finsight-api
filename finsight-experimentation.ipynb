{
 "cells": [
  {
   "cell_type": "markdown",
   "id": "804216f2",
   "metadata": {},
   "source": [
    "# MCP Server & Local LM-Studio Retriever\n",
    "This notebook demonstrates how to set up an MCP server and a SocioEconomicRetriever using a local LM-Studio model via the OpenAI client to fetch socioeconomic data."
   ]
  },
  {
   "cell_type": "code",
   "execution_count": 2,
   "id": "91c7983c",
   "metadata": {},
   "outputs": [
    {
     "name": "stdout",
     "output_type": "stream",
     "text": [
      "\u001b[33mDEPRECATION: Loading egg at /Users/romainboluda/anaconda3/envs/py311/lib/python3.11/site-packages/huggingface_hub-0.16.4-py3.8.egg is deprecated. pip 25.1 will enforce this behaviour change. A possible replacement is to use pip for package installation. Discussion can be found at https://github.com/pypa/pip/issues/12330\u001b[0m\u001b[33m\n",
      "\u001b[0mCollecting mcp-server\n",
      "  Using cached mcp_server-0.1.4-py3-none-any.whl.metadata (4.6 kB)\n",
      "Requirement already satisfied: openai in /Users/romainboluda/anaconda3/envs/py311/lib/python3.11/site-packages (0.28.1)\n",
      "\u001b[31mERROR: Ignored the following versions that require a different python version: 0.1.0 Requires-Python >=3.13; 0.1.1 Requires-Python >=3.13; 0.1.2 Requires-Python >=3.13; 0.1.3 Requires-Python >=3.13\u001b[0m\u001b[31m\n",
      "\u001b[0m\u001b[31mERROR: Could not find a version that satisfies the requirement socioeconomic-data-retriever (from versions: none)\u001b[0m\u001b[31m\n",
      "\u001b[0m\n",
      "\u001b[1m[\u001b[0m\u001b[34;49mnotice\u001b[0m\u001b[1;39;49m]\u001b[0m\u001b[39;49m A new release of pip is available: \u001b[0m\u001b[31;49m24.3.1\u001b[0m\u001b[39;49m -> \u001b[0m\u001b[32;49m25.1.1\u001b[0m\n",
      "\u001b[1m[\u001b[0m\u001b[34;49mnotice\u001b[0m\u001b[1;39;49m]\u001b[0m\u001b[39;49m To update, run: \u001b[0m\u001b[32;49mpip install --upgrade pip\u001b[0m\n",
      "\u001b[31mERROR: No matching distribution found for socioeconomic-data-retriever\u001b[0m\u001b[31m\n",
      "\u001b[0m\u001b[33mDEPRECATION: Loading egg at /Users/romainboluda/anaconda3/envs/py311/lib/python3.11/site-packages/huggingface_hub-0.16.4-py3.8.egg is deprecated. pip 25.1 will enforce this behaviour change. A possible replacement is to use pip for package installation. Discussion can be found at https://github.com/pypa/pip/issues/12330\u001b[0m\u001b[33m\n",
      "\u001b[0mRequirement already satisfied: pip in /Users/romainboluda/anaconda3/envs/py311/lib/python3.11/site-packages (24.3.1)\n",
      "Collecting pip\n",
      "  Downloading pip-25.1.1-py3-none-any.whl.metadata (3.6 kB)\n",
      "Downloading pip-25.1.1-py3-none-any.whl (1.8 MB)\n",
      "\u001b[2K   \u001b[90m━━━━━━━━━━━━━━━━━━━━━━━━━━━━━━━━━━━━━━━━\u001b[0m \u001b[32m1.8/1.8 MB\u001b[0m \u001b[31m7.7 MB/s\u001b[0m eta \u001b[36m0:00:00\u001b[0ma \u001b[36m0:00:01\u001b[0m\n",
      "\u001b[?25hInstalling collected packages: pip\n",
      "  Attempting uninstall: pip\n",
      "    Found existing installation: pip 24.3.1\n",
      "    Uninstalling pip-24.3.1:\n",
      "      Successfully uninstalled pip-24.3.1\n",
      "Successfully installed pip-25.1.1\n"
     ]
    }
   ],
   "source": [
    "# Install required packages\n",
    "!pip install mcp-server openai socioeconomic-data-retriever\n",
    "!pip install --upgrade pip"
   ]
  },
  {
   "cell_type": "code",
   "execution_count": null,
   "id": "58b25e9f",
   "metadata": {},
   "outputs": [],
   "source": [
    "import openai\n",
    "from socioeconomic_data_retriever import SocioEconomicRetriever\n",
    "\n",
    "# Configure OpenAI client to point at local LM-Studio endpoint\n",
    "openai.api_base = \"http://localhost:8001/v1\"\n",
    "openai.api_key = \"\"  # set your key if required\n",
    "\n",
    "# Initialize retriever\n",
    "retriever = SocioEconomicRetriever(client=openai)\n",
    "\n",
    "# Sample query\n",
    "query = \"Unemployment rate for 2020 in USA\"\n",
    "results = retriever.retrieve(query)\n",
    "print(results)"
   ]
  },
  {
   "cell_type": "code",
   "execution_count": null,
   "id": "74b62695",
   "metadata": {},
   "outputs": [],
   "source": [
    "from mcp_server import MCPServerConfig, MCPServer\n",
    "\n",
    "# Configure and start MCP server\n",
    "config = MCPServerConfig(host=\"localhost\", port=8000)\n",
    "server = MCPServer(config)\n",
    "server.start()"
   ]
  }
 ],
 "metadata": {
  "kernelspec": {
   "display_name": "py311",
   "language": "python",
   "name": "python3"
  },
  "language_info": {
   "codemirror_mode": {
    "name": "ipython",
    "version": 3
   },
   "file_extension": ".py",
   "mimetype": "text/x-python",
   "name": "python",
   "nbconvert_exporter": "python",
   "pygments_lexer": "ipython3",
   "version": "3.11.4"
  }
 },
 "nbformat": 4,
 "nbformat_minor": 5
}
